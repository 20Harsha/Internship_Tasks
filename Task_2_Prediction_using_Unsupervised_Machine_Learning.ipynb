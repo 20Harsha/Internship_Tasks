{
  "nbformat": 4,
  "nbformat_minor": 0,
  "metadata": {
    "colab": {
      "name": "Task 2 : Prediction using Unsupervised Machine Learning.ipynb",
      "provenance": [],
      "collapsed_sections": []
    },
    "kernelspec": {
      "name": "python3",
      "display_name": "Python 3"
    },
    "language_info": {
      "name": "python"
    }
  },
  "cells": [
    {
      "cell_type": "markdown",
      "source": [
        "#**Author : Harsha Kumavat**\n",
        "# **GRIP @The Sparks Foundation Internship - JAN 2022**\n",
        "## **Data Science & Business Analytics Intern**"
      ],
      "metadata": {
        "id": "3rYGkUkfNTY5"
      }
    },
    {
      "cell_type": "markdown",
      "source": [
        "## **Task 2 : Prediction using Unsupervised Machine Learning.**\n",
        "\n",
        "#### Predict the optimum number of clusters from the iris dataset and represent it visually."
      ],
      "metadata": {
        "id": "FgAmcoQbNZkM"
      }
    },
    {
      "cell_type": "markdown",
      "source": [
        "### **Importing Libraries**\n"
      ],
      "metadata": {
        "id": "71JF9TJgNkh9"
      }
    },
    {
      "cell_type": "code",
      "execution_count": 1,
      "metadata": {
        "id": "T7Qjwx1ywboP"
      },
      "outputs": [],
      "source": [
        "import pandas as pd\n",
        "import seaborn as sns\n",
        "import matplotlib.pyplot as plt\n",
        "from sklearn.cluster import KMeans\n",
        "import warnings\n",
        "warnings.filterwarnings('ignore')\n",
        "sns.set()"
      ]
    },
    {
      "cell_type": "markdown",
      "source": [
        "### **Importing the dataset**"
      ],
      "metadata": {
        "id": "20WAYwBcNqh2"
      }
    },
    {
      "cell_type": "code",
      "source": [
        "# Load the iris dataset\n",
        "df = pd.read_csv('/content/drive/MyDrive/DA/Iris.csv')"
      ],
      "metadata": {
        "id": "QjK6aryMwo42"
      },
      "execution_count": 2,
      "outputs": []
    },
    {
      "cell_type": "code",
      "source": [
        "df.head() #view first 5 rows of the dataset"
      ],
      "metadata": {
        "colab": {
          "base_uri": "https://localhost:8080/",
          "height": 206
        },
        "id": "7DX8W9kDaVNd",
        "outputId": "7aa682a0-5e65-44b9-9708-2fdaa787b175"
      },
      "execution_count": 3,
      "outputs": [
        {
          "output_type": "execute_result",
          "data": {
            "text/html": [
              "\n",
              "  <div id=\"df-f1ae31d9-49d3-4f1e-b40a-6a8282d935fc\">\n",
              "    <div class=\"colab-df-container\">\n",
              "      <div>\n",
              "<style scoped>\n",
              "    .dataframe tbody tr th:only-of-type {\n",
              "        vertical-align: middle;\n",
              "    }\n",
              "\n",
              "    .dataframe tbody tr th {\n",
              "        vertical-align: top;\n",
              "    }\n",
              "\n",
              "    .dataframe thead th {\n",
              "        text-align: right;\n",
              "    }\n",
              "</style>\n",
              "<table border=\"1\" class=\"dataframe\">\n",
              "  <thead>\n",
              "    <tr style=\"text-align: right;\">\n",
              "      <th></th>\n",
              "      <th>Id</th>\n",
              "      <th>SepalLengthCm</th>\n",
              "      <th>SepalWidthCm</th>\n",
              "      <th>PetalLengthCm</th>\n",
              "      <th>PetalWidthCm</th>\n",
              "      <th>Species</th>\n",
              "    </tr>\n",
              "  </thead>\n",
              "  <tbody>\n",
              "    <tr>\n",
              "      <th>0</th>\n",
              "      <td>1</td>\n",
              "      <td>5.1</td>\n",
              "      <td>3.5</td>\n",
              "      <td>1.4</td>\n",
              "      <td>0.2</td>\n",
              "      <td>Iris-setosa</td>\n",
              "    </tr>\n",
              "    <tr>\n",
              "      <th>1</th>\n",
              "      <td>2</td>\n",
              "      <td>4.9</td>\n",
              "      <td>3.0</td>\n",
              "      <td>1.4</td>\n",
              "      <td>0.2</td>\n",
              "      <td>Iris-setosa</td>\n",
              "    </tr>\n",
              "    <tr>\n",
              "      <th>2</th>\n",
              "      <td>3</td>\n",
              "      <td>4.7</td>\n",
              "      <td>3.2</td>\n",
              "      <td>1.3</td>\n",
              "      <td>0.2</td>\n",
              "      <td>Iris-setosa</td>\n",
              "    </tr>\n",
              "    <tr>\n",
              "      <th>3</th>\n",
              "      <td>4</td>\n",
              "      <td>4.6</td>\n",
              "      <td>3.1</td>\n",
              "      <td>1.5</td>\n",
              "      <td>0.2</td>\n",
              "      <td>Iris-setosa</td>\n",
              "    </tr>\n",
              "    <tr>\n",
              "      <th>4</th>\n",
              "      <td>5</td>\n",
              "      <td>5.0</td>\n",
              "      <td>3.6</td>\n",
              "      <td>1.4</td>\n",
              "      <td>0.2</td>\n",
              "      <td>Iris-setosa</td>\n",
              "    </tr>\n",
              "  </tbody>\n",
              "</table>\n",
              "</div>\n",
              "      <button class=\"colab-df-convert\" onclick=\"convertToInteractive('df-f1ae31d9-49d3-4f1e-b40a-6a8282d935fc')\"\n",
              "              title=\"Convert this dataframe to an interactive table.\"\n",
              "              style=\"display:none;\">\n",
              "        \n",
              "  <svg xmlns=\"http://www.w3.org/2000/svg\" height=\"24px\"viewBox=\"0 0 24 24\"\n",
              "       width=\"24px\">\n",
              "    <path d=\"M0 0h24v24H0V0z\" fill=\"none\"/>\n",
              "    <path d=\"M18.56 5.44l.94 2.06.94-2.06 2.06-.94-2.06-.94-.94-2.06-.94 2.06-2.06.94zm-11 1L8.5 8.5l.94-2.06 2.06-.94-2.06-.94L8.5 2.5l-.94 2.06-2.06.94zm10 10l.94 2.06.94-2.06 2.06-.94-2.06-.94-.94-2.06-.94 2.06-2.06.94z\"/><path d=\"M17.41 7.96l-1.37-1.37c-.4-.4-.92-.59-1.43-.59-.52 0-1.04.2-1.43.59L10.3 9.45l-7.72 7.72c-.78.78-.78 2.05 0 2.83L4 21.41c.39.39.9.59 1.41.59.51 0 1.02-.2 1.41-.59l7.78-7.78 2.81-2.81c.8-.78.8-2.07 0-2.86zM5.41 20L4 18.59l7.72-7.72 1.47 1.35L5.41 20z\"/>\n",
              "  </svg>\n",
              "      </button>\n",
              "      \n",
              "  <style>\n",
              "    .colab-df-container {\n",
              "      display:flex;\n",
              "      flex-wrap:wrap;\n",
              "      gap: 12px;\n",
              "    }\n",
              "\n",
              "    .colab-df-convert {\n",
              "      background-color: #E8F0FE;\n",
              "      border: none;\n",
              "      border-radius: 50%;\n",
              "      cursor: pointer;\n",
              "      display: none;\n",
              "      fill: #1967D2;\n",
              "      height: 32px;\n",
              "      padding: 0 0 0 0;\n",
              "      width: 32px;\n",
              "    }\n",
              "\n",
              "    .colab-df-convert:hover {\n",
              "      background-color: #E2EBFA;\n",
              "      box-shadow: 0px 1px 2px rgba(60, 64, 67, 0.3), 0px 1px 3px 1px rgba(60, 64, 67, 0.15);\n",
              "      fill: #174EA6;\n",
              "    }\n",
              "\n",
              "    [theme=dark] .colab-df-convert {\n",
              "      background-color: #3B4455;\n",
              "      fill: #D2E3FC;\n",
              "    }\n",
              "\n",
              "    [theme=dark] .colab-df-convert:hover {\n",
              "      background-color: #434B5C;\n",
              "      box-shadow: 0px 1px 3px 1px rgba(0, 0, 0, 0.15);\n",
              "      filter: drop-shadow(0px 1px 2px rgba(0, 0, 0, 0.3));\n",
              "      fill: #FFFFFF;\n",
              "    }\n",
              "  </style>\n",
              "\n",
              "      <script>\n",
              "        const buttonEl =\n",
              "          document.querySelector('#df-f1ae31d9-49d3-4f1e-b40a-6a8282d935fc button.colab-df-convert');\n",
              "        buttonEl.style.display =\n",
              "          google.colab.kernel.accessAllowed ? 'block' : 'none';\n",
              "\n",
              "        async function convertToInteractive(key) {\n",
              "          const element = document.querySelector('#df-f1ae31d9-49d3-4f1e-b40a-6a8282d935fc');\n",
              "          const dataTable =\n",
              "            await google.colab.kernel.invokeFunction('convertToInteractive',\n",
              "                                                     [key], {});\n",
              "          if (!dataTable) return;\n",
              "\n",
              "          const docLinkHtml = 'Like what you see? Visit the ' +\n",
              "            '<a target=\"_blank\" href=https://colab.research.google.com/notebooks/data_table.ipynb>data table notebook</a>'\n",
              "            + ' to learn more about interactive tables.';\n",
              "          element.innerHTML = '';\n",
              "          dataTable['output_type'] = 'display_data';\n",
              "          await google.colab.output.renderOutput(dataTable, element);\n",
              "          const docLink = document.createElement('div');\n",
              "          docLink.innerHTML = docLinkHtml;\n",
              "          element.appendChild(docLink);\n",
              "        }\n",
              "      </script>\n",
              "    </div>\n",
              "  </div>\n",
              "  "
            ],
            "text/plain": [
              "   Id  SepalLengthCm  SepalWidthCm  PetalLengthCm  PetalWidthCm      Species\n",
              "0   1            5.1           3.5            1.4           0.2  Iris-setosa\n",
              "1   2            4.9           3.0            1.4           0.2  Iris-setosa\n",
              "2   3            4.7           3.2            1.3           0.2  Iris-setosa\n",
              "3   4            4.6           3.1            1.5           0.2  Iris-setosa\n",
              "4   5            5.0           3.6            1.4           0.2  Iris-setosa"
            ]
          },
          "metadata": {},
          "execution_count": 3
        }
      ]
    },
    {
      "cell_type": "markdown",
      "source": [
        "### **Exploratory Data analysis**"
      ],
      "metadata": {
        "id": "2VO5p3tucr9Y"
      }
    },
    {
      "cell_type": "code",
      "source": [
        "df.shape #returns the no of rows and columns"
      ],
      "metadata": {
        "colab": {
          "base_uri": "https://localhost:8080/"
        },
        "id": "4pTMZqofwvSE",
        "outputId": "c0999dc9-4d61-41a5-c297-13db3d5cf388"
      },
      "execution_count": 4,
      "outputs": [
        {
          "output_type": "execute_result",
          "data": {
            "text/plain": [
              "(150, 6)"
            ]
          },
          "metadata": {},
          "execution_count": 4
        }
      ]
    },
    {
      "cell_type": "code",
      "source": [
        "df.info() #Basic summary about the data"
      ],
      "metadata": {
        "colab": {
          "base_uri": "https://localhost:8080/"
        },
        "id": "i54MszwGxEY8",
        "outputId": "169bb623-b852-47f0-9265-625193bd0ecd"
      },
      "execution_count": 5,
      "outputs": [
        {
          "output_type": "stream",
          "name": "stdout",
          "text": [
            "<class 'pandas.core.frame.DataFrame'>\n",
            "RangeIndex: 150 entries, 0 to 149\n",
            "Data columns (total 6 columns):\n",
            " #   Column         Non-Null Count  Dtype  \n",
            "---  ------         --------------  -----  \n",
            " 0   Id             150 non-null    int64  \n",
            " 1   SepalLengthCm  150 non-null    float64\n",
            " 2   SepalWidthCm   150 non-null    float64\n",
            " 3   PetalLengthCm  150 non-null    float64\n",
            " 4   PetalWidthCm   150 non-null    float64\n",
            " 5   Species        150 non-null    object \n",
            "dtypes: float64(4), int64(1), object(1)\n",
            "memory usage: 7.2+ KB\n"
          ]
        }
      ]
    },
    {
      "cell_type": "code",
      "source": [
        "df.isnull().sum()  #checking whether any null values are present"
      ],
      "metadata": {
        "colab": {
          "base_uri": "https://localhost:8080/"
        },
        "id": "HAgeTQfRY7xE",
        "outputId": "2522de16-f562-4193-de81-13252f1f9eaa"
      },
      "execution_count": 6,
      "outputs": [
        {
          "output_type": "execute_result",
          "data": {
            "text/plain": [
              "Id               0\n",
              "SepalLengthCm    0\n",
              "SepalWidthCm     0\n",
              "PetalLengthCm    0\n",
              "PetalWidthCm     0\n",
              "Species          0\n",
              "dtype: int64"
            ]
          },
          "metadata": {},
          "execution_count": 6
        }
      ]
    },
    {
      "cell_type": "markdown",
      "source": [
        "### **Extracting Independent variable**"
      ],
      "metadata": {
        "id": "3JoRnfqgPP5m"
      }
    },
    {
      "cell_type": "code",
      "source": [
        "#We are using unsupervised machine learning algorithm so we don't need any dependent variable.\n",
        "\n",
        "x = df.iloc[:,1:5].values  #Extracting independent variable"
      ],
      "metadata": {
        "id": "Xie3ChHROqb9"
      },
      "execution_count": 7,
      "outputs": []
    },
    {
      "cell_type": "markdown",
      "source": [
        "### **Finding the optimum number of clusters using the elbow method**"
      ],
      "metadata": {
        "id": "u07WUVcAQIPt"
      }
    },
    {
      "cell_type": "code",
      "source": [
        "# To find optimum number of clusters we use elbow method\n",
        "# Elbow method use wcss concept\n",
        "\n",
        "wcss = []  # WCSS stands for Within Cluster Sum of Squares   \n",
        "\n",
        "for i in range(1,8):\n",
        "  km=KMeans(i)\n",
        "  km.fit_predict(x)\n",
        "  wcss.append(km.inertia_)"
      ],
      "metadata": {
        "id": "nGKthIjNQFoq"
      },
      "execution_count": 8,
      "outputs": []
    },
    {
      "cell_type": "code",
      "source": [
        "wcss "
      ],
      "metadata": {
        "colab": {
          "base_uri": "https://localhost:8080/"
        },
        "id": "ge2aLsdpPWqm",
        "outputId": "740a7c8a-d67f-49c0-b82c-9e16c6098e52"
      },
      "execution_count": 9,
      "outputs": [
        {
          "output_type": "execute_result",
          "data": {
            "text/plain": [
              "[680.8244000000001,\n",
              " 152.36870647733906,\n",
              " 78.940841426146,\n",
              " 57.317873214285704,\n",
              " 46.53558205128205,\n",
              " 38.95701115711986,\n",
              " 34.31265004600874]"
            ]
          },
          "metadata": {},
          "execution_count": 9
        }
      ]
    },
    {
      "cell_type": "code",
      "source": [
        "# Elbow method use wcss concept to draw a plot between number of clusters and wcss\n",
        "# WCSS on Y - axis ranging for different K Values\n",
        "\n",
        "plt.figure(figsize=(7,5))\n",
        "plt.plot(range(1,8),wcss,mec='red',marker='o',mfc='red',ms=10,color='blue')\n",
        "plt.xlabel('No of clusters',fontsize=18)\n",
        "plt.ylabel('WCSS',fontsize=18)\n",
        "plt.title('Elbow method',fontsize=18)\n",
        "plt.show()"
      ],
      "metadata": {
        "colab": {
          "base_uri": "https://localhost:8080/",
          "height": 364
        },
        "id": "NtOAOdenPX3W",
        "outputId": "4ab30d79-1b3d-4082-f966-091b3a051bf0"
      },
      "execution_count": 10,
      "outputs": [
        {
          "output_type": "display_data",
          "data": {
            "image/png": "[encoded data removed]",
            "text/plain": [
              "<Figure size 504x360 with 1 Axes>"
            ]
          },
          "metadata": {
            "needs_background": "light"
          }
        }
      ]
    },
    {
      "cell_type": "markdown",
      "source": [
        "# **Problem statement : Predict the optimum number of clusters from the iris dataset**\n",
        "### From the above plot using elbow method we can see that our elbow point is at 3 . So the number of optimum clusters here will be 3"
      ],
      "metadata": {
        "id": "MSivJ-b1SPvd"
      }
    },
    {
      "cell_type": "markdown",
      "source": [
        "### **Training the K-means algorithm on the training dataset**"
      ],
      "metadata": {
        "id": "kAyDvhnjSwsb"
      }
    },
    {
      "cell_type": "code",
      "source": [
        "# Training the algorithm\n",
        "km=KMeans(n_clusters = 3, init = 'k-means++',\n",
        "                max_iter = 300, n_init = 10, random_state = 0)"
      ],
      "metadata": {
        "id": "0K8_dpgyPhse"
      },
      "execution_count": 11,
      "outputs": []
    },
    {
      "cell_type": "code",
      "source": [
        "y_pred = km.fit_predict(x) \n",
        "y_pred"
      ],
      "metadata": {
        "colab": {
          "base_uri": "https://localhost:8080/"
        },
        "id": "ZAOThcex_ccE",
        "outputId": "5db6ceaa-1089-44c1-cdb4-22ddeb415b7b"
      },
      "execution_count": 12,
      "outputs": [
        {
          "output_type": "execute_result",
          "data": {
            "text/plain": [
              "array([1, 1, 1, 1, 1, 1, 1, 1, 1, 1, 1, 1, 1, 1, 1, 1, 1, 1, 1, 1, 1, 1,\n",
              "       1, 1, 1, 1, 1, 1, 1, 1, 1, 1, 1, 1, 1, 1, 1, 1, 1, 1, 1, 1, 1, 1,\n",
              "       1, 1, 1, 1, 1, 1, 0, 0, 2, 0, 0, 0, 0, 0, 0, 0, 0, 0, 0, 0, 0, 0,\n",
              "       0, 0, 0, 0, 0, 0, 0, 0, 0, 0, 0, 2, 0, 0, 0, 0, 0, 0, 0, 0, 0, 0,\n",
              "       0, 0, 0, 0, 0, 0, 0, 0, 0, 0, 0, 0, 2, 0, 2, 2, 2, 2, 0, 2, 2, 2,\n",
              "       2, 2, 2, 0, 0, 2, 2, 2, 2, 0, 2, 0, 2, 0, 2, 2, 0, 0, 2, 2, 2, 2,\n",
              "       2, 0, 2, 2, 2, 2, 0, 2, 2, 2, 0, 2, 2, 2, 0, 2, 2, 0], dtype=int32)"
            ]
          },
          "metadata": {},
          "execution_count": 12
        }
      ]
    },
    {
      "cell_type": "code",
      "source": [
        "# To view the cluster centroids\n",
        "km.cluster_centers_"
      ],
      "metadata": {
        "colab": {
          "base_uri": "https://localhost:8080/"
        },
        "id": "CagdVbbAR9AV",
        "outputId": "6c7a514d-19e2-407b-ddd0-21f30a84871f"
      },
      "execution_count": 13,
      "outputs": [
        {
          "output_type": "execute_result",
          "data": {
            "text/plain": [
              "array([[5.9016129 , 2.7483871 , 4.39354839, 1.43387097],\n",
              "       [5.006     , 3.418     , 1.464     , 0.244     ],\n",
              "       [6.85      , 3.07368421, 5.74210526, 2.07105263]])"
            ]
          },
          "metadata": {},
          "execution_count": 13
        }
      ]
    },
    {
      "cell_type": "markdown",
      "source": [
        "### **Visualizing the Clusters**"
      ],
      "metadata": {
        "id": "6g5tkL3lTjLk"
      }
    },
    {
      "cell_type": "code",
      "source": [
        "plt.figure(figsize=(10,7))\n",
        "\n",
        "# Visualize Cluster-1 with label 'Iris-setosa' \n",
        "plt.scatter(x[y_pred==0,0],x[y_pred==0,1],color='Navy',s=50,label='Iris-setosa')\n",
        "\n",
        "# Visualize Cluster-2 with label 'Iris -versicolour'  \n",
        "plt.scatter(x[y_pred==1,0],x[y_pred==1,1],color='DarkRed',s=50,label='Iris-versicolour')\n",
        "\n",
        "\n",
        "# Visualize Cluster-3 with label 'Iris-virginica' \n",
        "plt.scatter(x[y_pred==2,0],x[y_pred==2,1],color='DarkGreen',s=50,label='Iris-virginica')\n",
        "\n",
        "# Visualize Centroids with label 'Centroids' \n",
        "plt.plot(km.cluster_centers_[:,0],km.cluster_centers_[:,1],'o',color='yellow',label='Centroids',markeredgecolor='black',ms=15)\n",
        "\n",
        "plt.title('Cluster of Species',fontsize=17)\n",
        "plt.legend()\n",
        "plt.show()"
      ],
      "metadata": {
        "colab": {
          "base_uri": "https://localhost:8080/",
          "height": 451
        },
        "id": "QzVYRRHXSFA1",
        "outputId": "972a714c-ab37-458e-8450-abb6606807ad"
      },
      "execution_count": 14,
      "outputs": [
        {
          "output_type": "display_data",
          "data": {
            "image/png": "[encoded data removed]",
            "text/plain": [
              "<Figure size 720x504 with 1 Axes>"
            ]
          },
          "metadata": {
            "needs_background": "light"
          }
        }
      ]
    },
    {
      "cell_type": "markdown",
      "source": [
        "#**Summary**#\n",
        "\n",
        "*   The dataset consist of Id ,Sepal length, Sepal width, Petal length ,Petal width and Species.\n",
        "*   There are 150 rows and 6 columns.\n",
        "*   **Problem Statement :** Predict the optimum number of clusters from the iris dataset and represent it visually.\n",
        "![Capture.PNG](data:image/png;base64,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)\n",
        "\n",
        "   From the above plot using elbow method we can see that our elbow point occurs at 3 .So the number of optimum clusters for iris dataset will be 3.\n",
        "\n",
        "* KMeans is an unsupervised machine learning algorithm. Using Kmeans the data has been clustered. It divides the data into 3 clusters of flower species they are Iris-setosa, Iris-versicolour and Iris-virginica."
      ],
      "metadata": {
        "id": "tLIrX6ACWOc-"
      }
    },
    {
      "cell_type": "markdown",
      "source": [
        "# **Thank You**"
      ],
      "metadata": {
        "id": "1AQjQllvhFMO"
      }
    }
  ]
}
